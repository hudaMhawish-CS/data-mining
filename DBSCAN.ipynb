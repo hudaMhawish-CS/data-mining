{
 "cells": [
  {
   "cell_type": "markdown",
   "metadata": {},
   "source": [
    "# DBSCAN"
   ]
  },
  {
   "cell_type": "code",
   "execution_count": 1,
   "metadata": {},
   "outputs": [],
   "source": [
    "import numpy as np\n",
    "import matplotlib.pyplot as plt\n",
    "%matplotlib inline\n",
    "from sklearn.datasets import make_blobs\n",
    "import pandas as pd\n",
    "from sklearn.decomposition import PCA"
   ]
  },
  {
   "cell_type": "code",
   "execution_count": 2,
   "metadata": {},
   "outputs": [],
   "source": [
    "X=pd.read_csv('Leukemia_GSE9476.csv')"
   ]
  },
  {
   "cell_type": "code",
   "execution_count": 3,
   "metadata": {},
   "outputs": [
    {
     "data": {
      "text/html": [
       "<div>\n",
       "<style scoped>\n",
       "    .dataframe tbody tr th:only-of-type {\n",
       "        vertical-align: middle;\n",
       "    }\n",
       "\n",
       "    .dataframe tbody tr th {\n",
       "        vertical-align: top;\n",
       "    }\n",
       "\n",
       "    .dataframe thead th {\n",
       "        text-align: right;\n",
       "    }\n",
       "</style>\n",
       "<table border=\"1\" class=\"dataframe\">\n",
       "  <thead>\n",
       "    <tr style=\"text-align: right;\">\n",
       "      <th></th>\n",
       "      <th>samples</th>\n",
       "      <th>type</th>\n",
       "      <th>1007_s_at</th>\n",
       "      <th>1053_at</th>\n",
       "      <th>117_at</th>\n",
       "      <th>121_at</th>\n",
       "      <th>1255_g_at</th>\n",
       "      <th>1294_at</th>\n",
       "      <th>1316_at</th>\n",
       "      <th>1320_at</th>\n",
       "      <th>...</th>\n",
       "      <th>AFFX-r2-Hs28SrRNA-5_at</th>\n",
       "      <th>AFFX-r2-Hs28SrRNA-M_at</th>\n",
       "      <th>AFFX-r2-P1-cre-3_at</th>\n",
       "      <th>AFFX-r2-P1-cre-5_at</th>\n",
       "      <th>AFFX-ThrX-3_at</th>\n",
       "      <th>AFFX-ThrX-5_at</th>\n",
       "      <th>AFFX-ThrX-M_at</th>\n",
       "      <th>AFFX-TrpnX-3_at</th>\n",
       "      <th>AFFX-TrpnX-5_at</th>\n",
       "      <th>AFFX-TrpnX-M_at</th>\n",
       "    </tr>\n",
       "  </thead>\n",
       "  <tbody>\n",
       "    <tr>\n",
       "      <th>0</th>\n",
       "      <td>1</td>\n",
       "      <td>Bone_Marrow_CD34</td>\n",
       "      <td>7.745245</td>\n",
       "      <td>7.811210</td>\n",
       "      <td>6.477916</td>\n",
       "      <td>8.841506</td>\n",
       "      <td>4.546941</td>\n",
       "      <td>7.957714</td>\n",
       "      <td>5.344999</td>\n",
       "      <td>4.673364</td>\n",
       "      <td>...</td>\n",
       "      <td>5.058849</td>\n",
       "      <td>6.810004</td>\n",
       "      <td>12.800060</td>\n",
       "      <td>12.718612</td>\n",
       "      <td>5.391512</td>\n",
       "      <td>4.666166</td>\n",
       "      <td>3.974759</td>\n",
       "      <td>3.656693</td>\n",
       "      <td>4.160622</td>\n",
       "      <td>4.139249</td>\n",
       "    </tr>\n",
       "    <tr>\n",
       "      <th>1</th>\n",
       "      <td>12</td>\n",
       "      <td>Bone_Marrow_CD34</td>\n",
       "      <td>8.087252</td>\n",
       "      <td>7.240673</td>\n",
       "      <td>8.584648</td>\n",
       "      <td>8.983571</td>\n",
       "      <td>4.548934</td>\n",
       "      <td>8.011652</td>\n",
       "      <td>5.579647</td>\n",
       "      <td>4.828184</td>\n",
       "      <td>...</td>\n",
       "      <td>4.436153</td>\n",
       "      <td>6.751471</td>\n",
       "      <td>12.472706</td>\n",
       "      <td>12.333593</td>\n",
       "      <td>5.379738</td>\n",
       "      <td>4.656786</td>\n",
       "      <td>4.188348</td>\n",
       "      <td>3.792535</td>\n",
       "      <td>4.204414</td>\n",
       "      <td>4.122700</td>\n",
       "    </tr>\n",
       "    <tr>\n",
       "      <th>2</th>\n",
       "      <td>13</td>\n",
       "      <td>Bone_Marrow_CD34</td>\n",
       "      <td>7.792056</td>\n",
       "      <td>7.549368</td>\n",
       "      <td>11.053504</td>\n",
       "      <td>8.909703</td>\n",
       "      <td>4.549328</td>\n",
       "      <td>8.237099</td>\n",
       "      <td>5.406489</td>\n",
       "      <td>4.615572</td>\n",
       "      <td>...</td>\n",
       "      <td>4.392061</td>\n",
       "      <td>6.086295</td>\n",
       "      <td>12.637384</td>\n",
       "      <td>12.499038</td>\n",
       "      <td>5.316604</td>\n",
       "      <td>4.600566</td>\n",
       "      <td>3.845561</td>\n",
       "      <td>3.635715</td>\n",
       "      <td>4.174199</td>\n",
       "      <td>4.067152</td>\n",
       "    </tr>\n",
       "  </tbody>\n",
       "</table>\n",
       "<p>3 rows × 22285 columns</p>\n",
       "</div>"
      ],
      "text/plain": [
       "   samples              type  1007_s_at   1053_at     117_at    121_at  \\\n",
       "0        1  Bone_Marrow_CD34   7.745245  7.811210   6.477916  8.841506   \n",
       "1       12  Bone_Marrow_CD34   8.087252  7.240673   8.584648  8.983571   \n",
       "2       13  Bone_Marrow_CD34   7.792056  7.549368  11.053504  8.909703   \n",
       "\n",
       "   1255_g_at   1294_at   1316_at   1320_at       ...         \\\n",
       "0   4.546941  7.957714  5.344999  4.673364       ...          \n",
       "1   4.548934  8.011652  5.579647  4.828184       ...          \n",
       "2   4.549328  8.237099  5.406489  4.615572       ...          \n",
       "\n",
       "   AFFX-r2-Hs28SrRNA-5_at  AFFX-r2-Hs28SrRNA-M_at  AFFX-r2-P1-cre-3_at  \\\n",
       "0                5.058849                6.810004            12.800060   \n",
       "1                4.436153                6.751471            12.472706   \n",
       "2                4.392061                6.086295            12.637384   \n",
       "\n",
       "   AFFX-r2-P1-cre-5_at  AFFX-ThrX-3_at  AFFX-ThrX-5_at  AFFX-ThrX-M_at  \\\n",
       "0            12.718612        5.391512        4.666166        3.974759   \n",
       "1            12.333593        5.379738        4.656786        4.188348   \n",
       "2            12.499038        5.316604        4.600566        3.845561   \n",
       "\n",
       "   AFFX-TrpnX-3_at  AFFX-TrpnX-5_at  AFFX-TrpnX-M_at  \n",
       "0         3.656693         4.160622         4.139249  \n",
       "1         3.792535         4.204414         4.122700  \n",
       "2         3.635715         4.174199         4.067152  \n",
       "\n",
       "[3 rows x 22285 columns]"
      ]
     },
     "execution_count": 3,
     "metadata": {},
     "output_type": "execute_result"
    }
   ],
   "source": [
    "X.head(3)"
   ]
  },
  {
   "cell_type": "code",
   "execution_count": 4,
   "metadata": {},
   "outputs": [
    {
     "name": "stdout",
     "output_type": "stream",
     "text": [
      "Column names Index(['samples', 'type', '1007_s_at', '1053_at', '117_at', '121_at',\n",
      "       '1255_g_at', '1294_at', '1316_at', '1320_at', '1405_i_at', '1431_at',\n",
      "       '1438_at', '1487_at', '1494_f_at', '1598_g_at', '160020_at', '1729_at',\n",
      "       '1773_at', '177_at'],\n",
      "      dtype='object')\n"
     ]
    }
   ],
   "source": [
    "print(\"Column names\",X.columns[:20])"
   ]
  },
  {
   "cell_type": "code",
   "execution_count": 5,
   "metadata": {},
   "outputs": [
    {
     "name": "stdout",
     "output_type": "stream",
     "text": [
      "<class 'pandas.core.frame.DataFrame'>\n",
      "RangeIndex: 64 entries, 0 to 63\n",
      "Columns: 22285 entries, samples to AFFX-TrpnX-M_at\n",
      "dtypes: float64(22283), int64(1), object(1)\n",
      "memory usage: 10.9+ MB\n"
     ]
    }
   ],
   "source": [
    "X.info()"
   ]
  },
  {
   "cell_type": "markdown",
   "metadata": {},
   "source": [
    "# Missing value\n",
    "### Check for Missing values"
   ]
  },
  {
   "cell_type": "code",
   "execution_count": 6,
   "metadata": {},
   "outputs": [
    {
     "name": "stdout",
     "output_type": "stream",
     "text": [
      "Missing Values = 0\n"
     ]
    }
   ],
   "source": [
    "print(\"Missing Values =\",X.isnull().sum().sum())"
   ]
  },
  {
   "cell_type": "markdown",
   "metadata": {},
   "source": [
    "# Encoding"
   ]
  },
  {
   "cell_type": "markdown",
   "metadata": {},
   "source": [
    "#### Find categorical and numerical columns"
   ]
  },
  {
   "cell_type": "code",
   "execution_count": 8,
   "metadata": {},
   "outputs": [],
   "source": [
    "\n",
    "data_float=X.select_dtypes(include=[np.float])\n",
    "\n",
    "data_int=X.select_dtypes(include=[np.int])\n",
    "\n",
    "data_object=X.select_dtypes(include=[object])"
   ]
  },
  {
   "cell_type": "code",
   "execution_count": 9,
   "metadata": {},
   "outputs": [
    {
     "name": "stdout",
     "output_type": "stream",
     "text": [
      "float : Index(['1007_s_at', '1053_at', '117_at', '121_at', '1255_g_at', '1294_at',\n",
      "       '1316_at', '1320_at', '1405_i_at', '1431_at',\n",
      "       ...\n",
      "       'AFFX-r2-Hs28SrRNA-5_at', 'AFFX-r2-Hs28SrRNA-M_at',\n",
      "       'AFFX-r2-P1-cre-3_at', 'AFFX-r2-P1-cre-5_at', 'AFFX-ThrX-3_at',\n",
      "       'AFFX-ThrX-5_at', 'AFFX-ThrX-M_at', 'AFFX-TrpnX-3_at',\n",
      "       'AFFX-TrpnX-5_at', 'AFFX-TrpnX-M_at'],\n",
      "      dtype='object', length=22283)\n",
      "int : Index([], dtype='object')\n",
      "object : Index(['type'], dtype='object')\n"
     ]
    }
   ],
   "source": [
    "print(\"float :\",data_float.columns)\n",
    "print(\"int :\",data_int.columns)\n",
    "print(\"object :\",data_object.columns)"
   ]
  },
  {
   "cell_type": "markdown",
   "metadata": {},
   "source": [
    "### encodeing type feature "
   ]
  },
  {
   "cell_type": "code",
   "execution_count": 10,
   "metadata": {},
   "outputs": [
    {
     "name": "stdout",
     "output_type": "stream",
     "text": [
      "AML                 26\n",
      "PBSC_CD34           10\n",
      "PB                  10\n",
      "Bone_Marrow         10\n",
      "Bone_Marrow_CD34     8\n",
      "Name: type, dtype: int64\n"
     ]
    }
   ],
   "source": [
    "print(X['type'].value_counts())"
   ]
  },
  {
   "cell_type": "code",
   "execution_count": 11,
   "metadata": {},
   "outputs": [],
   "source": [
    "data_enc=pd.get_dummies(X,columns=['type'])"
   ]
  },
  {
   "cell_type": "markdown",
   "metadata": {},
   "source": [
    "# Scaleing"
   ]
  },
  {
   "cell_type": "code",
   "execution_count": 12,
   "metadata": {},
   "outputs": [],
   "source": [
    "# from sklearn.preprocessing import MinMaxScaler\n",
    "# Scaleddata = MinMaxScaler(feature_range=(0, 1)).fit_transform(data_enc)\n",
    "# data_scale = pd.DataFrame(Scaleddata,columns=data_enc.columns)"
   ]
  },
  {
   "cell_type": "code",
   "execution_count": 13,
   "metadata": {},
   "outputs": [
    {
     "data": {
      "text/plain": [
       "StandardScaler(copy=True, with_mean=True, with_std=True)"
      ]
     },
     "execution_count": 13,
     "metadata": {},
     "output_type": "execute_result"
    }
   ],
   "source": [
    "from sklearn.preprocessing import StandardScaler\n",
    "standard_scaler = StandardScaler(copy=True, with_mean=True, with_std=True) \n",
    "standard_scaler.fit(data_enc)"
   ]
  },
  {
   "cell_type": "markdown",
   "metadata": {},
   "source": [
    "# Dimensionalty Reducation"
   ]
  },
  {
   "cell_type": "code",
   "execution_count": 14,
   "metadata": {},
   "outputs": [],
   "source": [
    "pca = PCA(n_components = 2).fit(data_enc) \n",
    "pca_2d = pca.transform(data_enc)"
   ]
  },
  {
   "cell_type": "markdown",
   "metadata": {},
   "source": [
    "# outlier"
   ]
  },
  {
   "cell_type": "markdown",
   "metadata": {},
   "source": [
    "#### useing zscore"
   ]
  },
  {
   "cell_type": "code",
   "execution_count": 15,
   "metadata": {},
   "outputs": [
    {
     "data": {
      "text/plain": [
       "(51, 2)"
      ]
     },
     "execution_count": 15,
     "metadata": {},
     "output_type": "execute_result"
    }
   ],
   "source": [
    "from scipy import stats\n",
    "data_cll=pca_2d[(np.abs(stats.zscore(pca_2d))<1.7).all(axis=1)]\n",
    "data_cll.shape"
   ]
  },
  {
   "cell_type": "code",
   "execution_count": 16,
   "metadata": {},
   "outputs": [],
   "source": [
    "# data_s = pca_2d.iloc[:,0:2284].values"
   ]
  },
  {
   "cell_type": "code",
   "execution_count": 17,
   "metadata": {},
   "outputs": [
    {
     "name": "stdout",
     "output_type": "stream",
     "text": [
      "(51, 2)\n"
     ]
    },
    {
     "data": {
      "image/png": "[encoded data removed]",
      "text/plain": [
       "<Figure size 720x360 with 1 Axes>"
      ]
     },
     "metadata": {
      "needs_background": "light"
     },
     "output_type": "display_data"
    }
   ],
   "source": [
    "fig,ax = plt.subplots(figsize=(10,5))\n",
    "ax.set_title(\"Data befor clustring\")\n",
    "ax.scatter(data_cll[:,0],data_cll[:,1],c='k',s=50,cmap = 'inferno');\n",
    "print(data_cll.shape)"
   ]
  },
  {
   "cell_type": "markdown",
   "metadata": {},
   "source": [
    "# CLUSTERING WITH DBSCAN"
   ]
  },
  {
   "cell_type": "code",
   "execution_count": 18,
   "metadata": {},
   "outputs": [
    {
     "name": "stdout",
     "output_type": "stream",
     "text": [
      "[False  True  True  True  True  True False  True  True  True  True  True\n",
      " False  True  True  True  True  True False False False False  True  True\n",
      "  True False False False  True  True  True  True  True  True  True  True\n",
      " False False False  True  True  True False False  True  True  True  True\n",
      "  True  True  True  True  True  True  True  True  True  True  True  True\n",
      "  True  True  True  True]\n",
      "[ 0  0  0  0  0  0  0  0  1  1  1  1  1  1  1  1  1  1  2 -1  2 -1  2  3\n",
      "  2 -1 -1  3  2  2  2  2  2  2  2  3 -1 -1  3  2  2  2  2  2  4  4  4  4\n",
      "  4  4  4  4  4  4  5  5  5  5  5  5  5  5  5  5]\n"
     ]
    }
   ],
   "source": [
    "from sklearn.cluster import DBSCAN\n",
    "dbscan = DBSCAN(eps =10,min_samples=4).fit(pca_2d)\n",
    "dbscan_labels = dbscan.labels_\n",
    "\n",
    "cor_samples=np.zeros_like(dbscan_labels,dtype=bool)\n",
    "cor_samples[dbscan.core_sample_indices_]=True\n",
    "print(cor_samples)\n",
    "print(dbscan_labels)\n"
   ]
  },
  {
   "cell_type": "code",
   "execution_count": 19,
   "metadata": {},
   "outputs": [
    {
     "data": {
      "text/plain": [
       "6"
      ]
     },
     "execution_count": 19,
     "metadata": {},
     "output_type": "execute_result"
    }
   ],
   "source": [
    "n_clusters=len(set(dbscan_labels))-(1 if -1 in dbscan_labels else 0)\n",
    "n_clusters"
   ]
  },
  {
   "cell_type": "code",
   "execution_count": 20,
   "metadata": {},
   "outputs": [
    {
     "data": {
      "image/png": "[encoded data removed]",
      "text/plain": [
       "<Figure size 720x360 with 1 Axes>"
      ]
     },
     "metadata": {
      "needs_background": "light"
     },
     "output_type": "display_data"
    }
   ],
   "source": [
    "fig,ax = plt.subplots(figsize=(10,5))\n",
    "ax.set_title(\"CLUSTERING WITH DBSCAN\")\n",
    "ax.scatter(pca_2d[:,0],pca_2d[:,1],c=dbscan_labels,s=50,cmap = 'inferno');"
   ]
  },
  {
   "cell_type": "markdown",
   "metadata": {},
   "source": [
    "# Kmeans"
   ]
  },
  {
   "cell_type": "code",
   "execution_count": 21,
   "metadata": {},
   "outputs": [],
   "source": [
    "from sklearn.cluster import KMeans\n",
    "Kmeans=KMeans(n_clusters=6)\n",
    "Kmeans_label=Kmeans.fit_predict(pca_2d)\n",
    "# plt.scatter(pca_2d[:,0],pca_2d[:,0],c=Kmeans_label,s=50,cmap = 'inferno')\n",
    "# plt.show()"
   ]
  },
  {
   "cell_type": "markdown",
   "metadata": {},
   "source": [
    "# validation"
   ]
  },
  {
   "cell_type": "code",
   "execution_count": 22,
   "metadata": {},
   "outputs": [
    {
     "name": "stdout",
     "output_type": "stream",
     "text": [
      "silhouette coefficient DBSCAN : 0.637\n",
      "silhouette coefficient Kmeans: 0.633\n"
     ]
    }
   ],
   "source": [
    "from sklearn import metrics\n",
    "print(\"silhouette coefficient DBSCAN : %0.3f\" % metrics.silhouette_score(pca_2d,dbscan_labels))\n",
    "print(\"silhouette coefficient Kmeans: %0.3f\" % metrics.silhouette_score(pca_2d,Kmeans_label))"
   ]
  },
  {
   "cell_type": "code",
   "execution_count": 44,
   "metadata": {},
   "outputs": [],
   "source": []
  },
  {
   "cell_type": "code",
   "execution_count": 24,
   "metadata": {},
   "outputs": [
    {
     "name": "stdout",
     "output_type": "stream",
     "text": [
      "0.15046917721271405 0.18799477122727987\n"
     ]
    }
   ],
   "source": [
    "from scipy.spatial.distance import euclidean\n",
    "dbscan_score=DBCV(pca_2d,dbscan_labels,dist_function=euclidean)\n",
    "kmean_score=DBCV(pca_2d,Kmeans_label,dist_function=euclidean)\n",
    "print(kmean_score,dbscan_score)"
   ]
  },
  {
   "cell_type": "markdown",
   "metadata": {},
   "source": [
    "# CLUSTERING WITH OPTICS"
   ]
  },
  {
   "cell_type": "code",
   "execution_count": 47,
   "metadata": {},
   "outputs": [],
   "source": [
    "from sklearn.cluster import OPTICS "
   ]
  },
  {
   "cell_type": "code",
   "execution_count": 48,
   "metadata": {},
   "outputs": [
    {
     "data": {
      "text/plain": [
       "array([-1,  0,  0,  0,  0,  0,  0,  0,  3,  3,  3,  3,  3,  3,  3,  3,  3,\n",
       "        3, -1,  4, -1, -1, -1,  2, -1, -1,  4,  2,  1, -1, -1,  1,  1,  1,\n",
       "        1,  2,  4,  4,  2,  1,  1,  1, -1, -1,  7,  6,  6,  6,  7,  6,  7,\n",
       "        7,  6,  7,  5,  5,  5,  5,  5,  5,  5,  5,  5,  5])"
      ]
     },
     "execution_count": 48,
     "metadata": {},
     "output_type": "execute_result"
    }
   ],
   "source": [
    "optics = OPTICS(min_samples = 4,eps=10, xi = 0.05, min_cluster_size = 0.05).fit(pca_2d)\n",
    "labeloptics=optics.labels_\n",
    "labeloptics"
   ]
  },
  {
   "cell_type": "code",
   "execution_count": 49,
   "metadata": {},
   "outputs": [
    {
     "data": {
      "image/png": "[encoded data removed]",
      "text/plain": [
       "<Figure size 720x360 with 1 Axes>"
      ]
     },
     "metadata": {
      "needs_background": "light"
     },
     "output_type": "display_data"
    }
   ],
   "source": [
    "fig,ax = plt.subplots(figsize=(10,5))\n",
    "ax.set_title(\"CLUSTERING WITH OPTICS\")\n",
    "ax.scatter(pca_2d[:,0],pca_2d[:,1],c=labeloptics,s=50,cmap = 'inferno');"
   ]
  },
  {
   "cell_type": "markdown",
   "metadata": {},
   "source": [
    "# Hierarchical Clustering"
   ]
  },
  {
   "cell_type": "code",
   "execution_count": 1,
   "metadata": {},
   "outputs": [],
   "source": [
    "import matplotlib.pyplot as plt\n",
    "import pandas as pd\n",
    "%matplotlib inline\n",
    "import numpy as np"
   ]
  },
  {
   "cell_type": "code",
   "execution_count": 2,
   "metadata": {},
   "outputs": [],
   "source": [
    "df = pd.read_csv('Leukemia_GSE9476.csv')"
   ]
  },
  {
   "cell_type": "code",
   "execution_count": 3,
   "metadata": {},
   "outputs": [
    {
     "data": {
      "text/plain": [
       "(64, 22285)"
      ]
     },
     "execution_count": 3,
     "metadata": {},
     "output_type": "execute_result"
    }
   ],
   "source": [
    "df.shape"
   ]
  },
  {
   "cell_type": "code",
   "execution_count": 4,
   "metadata": {},
   "outputs": [
    {
     "data": {
      "text/plain": [
       "type\n",
       "AML                 26\n",
       "Bone_Marrow         10\n",
       "Bone_Marrow_CD34     8\n",
       "PB                  10\n",
       "PBSC_CD34           10\n",
       "Name: type, dtype: int64"
      ]
     },
     "execution_count": 4,
     "metadata": {},
     "output_type": "execute_result"
    }
   ],
   "source": [
    "df.groupby(['type'])['type'].count()"
   ]
  },
  {
   "cell_type": "code",
   "execution_count": 5,
   "metadata": {},
   "outputs": [
    {
     "data": {
      "text/html": [
       "<div>\n",
       "<style scoped>\n",
       "    .dataframe tbody tr th:only-of-type {\n",
       "        vertical-align: middle;\n",
       "    }\n",
       "\n",
       "    .dataframe tbody tr th {\n",
       "        vertical-align: top;\n",
       "    }\n",
       "\n",
       "    .dataframe thead th {\n",
       "        text-align: right;\n",
       "    }\n",
       "</style>\n",
       "<table border=\"1\" class=\"dataframe\">\n",
       "  <thead>\n",
       "    <tr style=\"text-align: right;\">\n",
       "      <th></th>\n",
       "      <th>samples</th>\n",
       "      <th>type</th>\n",
       "      <th>1007_s_at</th>\n",
       "      <th>1053_at</th>\n",
       "      <th>117_at</th>\n",
       "      <th>121_at</th>\n",
       "      <th>1255_g_at</th>\n",
       "      <th>1294_at</th>\n",
       "      <th>1316_at</th>\n",
       "      <th>1320_at</th>\n",
       "      <th>...</th>\n",
       "      <th>AFFX-r2-Hs28SrRNA-5_at</th>\n",
       "      <th>AFFX-r2-Hs28SrRNA-M_at</th>\n",
       "      <th>AFFX-r2-P1-cre-3_at</th>\n",
       "      <th>AFFX-r2-P1-cre-5_at</th>\n",
       "      <th>AFFX-ThrX-3_at</th>\n",
       "      <th>AFFX-ThrX-5_at</th>\n",
       "      <th>AFFX-ThrX-M_at</th>\n",
       "      <th>AFFX-TrpnX-3_at</th>\n",
       "      <th>AFFX-TrpnX-5_at</th>\n",
       "      <th>AFFX-TrpnX-M_at</th>\n",
       "    </tr>\n",
       "  </thead>\n",
       "  <tbody>\n",
       "    <tr>\n",
       "      <th>0</th>\n",
       "      <td>1</td>\n",
       "      <td>Bone_Marrow_CD34</td>\n",
       "      <td>7.745245</td>\n",
       "      <td>7.811210</td>\n",
       "      <td>6.477916</td>\n",
       "      <td>8.841506</td>\n",
       "      <td>4.546941</td>\n",
       "      <td>7.957714</td>\n",
       "      <td>5.344999</td>\n",
       "      <td>4.673364</td>\n",
       "      <td>...</td>\n",
       "      <td>5.058849</td>\n",
       "      <td>6.810004</td>\n",
       "      <td>12.800060</td>\n",
       "      <td>12.718612</td>\n",
       "      <td>5.391512</td>\n",
       "      <td>4.666166</td>\n",
       "      <td>3.974759</td>\n",
       "      <td>3.656693</td>\n",
       "      <td>4.160622</td>\n",
       "      <td>4.139249</td>\n",
       "    </tr>\n",
       "    <tr>\n",
       "      <th>1</th>\n",
       "      <td>12</td>\n",
       "      <td>Bone_Marrow_CD34</td>\n",
       "      <td>8.087252</td>\n",
       "      <td>7.240673</td>\n",
       "      <td>8.584648</td>\n",
       "      <td>8.983571</td>\n",
       "      <td>4.548934</td>\n",
       "      <td>8.011652</td>\n",
       "      <td>5.579647</td>\n",
       "      <td>4.828184</td>\n",
       "      <td>...</td>\n",
       "      <td>4.436153</td>\n",
       "      <td>6.751471</td>\n",
       "      <td>12.472706</td>\n",
       "      <td>12.333593</td>\n",
       "      <td>5.379738</td>\n",
       "      <td>4.656786</td>\n",
       "      <td>4.188348</td>\n",
       "      <td>3.792535</td>\n",
       "      <td>4.204414</td>\n",
       "      <td>4.122700</td>\n",
       "    </tr>\n",
       "    <tr>\n",
       "      <th>2</th>\n",
       "      <td>13</td>\n",
       "      <td>Bone_Marrow_CD34</td>\n",
       "      <td>7.792056</td>\n",
       "      <td>7.549368</td>\n",
       "      <td>11.053504</td>\n",
       "      <td>8.909703</td>\n",
       "      <td>4.549328</td>\n",
       "      <td>8.237099</td>\n",
       "      <td>5.406489</td>\n",
       "      <td>4.615572</td>\n",
       "      <td>...</td>\n",
       "      <td>4.392061</td>\n",
       "      <td>6.086295</td>\n",
       "      <td>12.637384</td>\n",
       "      <td>12.499038</td>\n",
       "      <td>5.316604</td>\n",
       "      <td>4.600566</td>\n",
       "      <td>3.845561</td>\n",
       "      <td>3.635715</td>\n",
       "      <td>4.174199</td>\n",
       "      <td>4.067152</td>\n",
       "    </tr>\n",
       "    <tr>\n",
       "      <th>3</th>\n",
       "      <td>14</td>\n",
       "      <td>Bone_Marrow_CD34</td>\n",
       "      <td>7.767265</td>\n",
       "      <td>7.094460</td>\n",
       "      <td>11.816433</td>\n",
       "      <td>8.994654</td>\n",
       "      <td>4.697018</td>\n",
       "      <td>8.283412</td>\n",
       "      <td>5.582195</td>\n",
       "      <td>4.903684</td>\n",
       "      <td>...</td>\n",
       "      <td>4.633334</td>\n",
       "      <td>6.375991</td>\n",
       "      <td>12.903630</td>\n",
       "      <td>12.871454</td>\n",
       "      <td>5.179951</td>\n",
       "      <td>4.641952</td>\n",
       "      <td>3.991634</td>\n",
       "      <td>3.704587</td>\n",
       "      <td>4.149938</td>\n",
       "      <td>3.910150</td>\n",
       "    </tr>\n",
       "    <tr>\n",
       "      <th>4</th>\n",
       "      <td>15</td>\n",
       "      <td>Bone_Marrow_CD34</td>\n",
       "      <td>8.010117</td>\n",
       "      <td>7.405281</td>\n",
       "      <td>6.656049</td>\n",
       "      <td>9.050682</td>\n",
       "      <td>4.514986</td>\n",
       "      <td>8.377046</td>\n",
       "      <td>5.493713</td>\n",
       "      <td>4.860754</td>\n",
       "      <td>...</td>\n",
       "      <td>5.305192</td>\n",
       "      <td>6.700453</td>\n",
       "      <td>12.949352</td>\n",
       "      <td>12.782515</td>\n",
       "      <td>5.341689</td>\n",
       "      <td>4.560315</td>\n",
       "      <td>3.887020</td>\n",
       "      <td>3.629853</td>\n",
       "      <td>4.127513</td>\n",
       "      <td>4.004316</td>\n",
       "    </tr>\n",
       "  </tbody>\n",
       "</table>\n",
       "<p>5 rows × 22285 columns</p>\n",
       "</div>"
      ],
      "text/plain": [
       "   samples              type  1007_s_at   1053_at     117_at    121_at  \\\n",
       "0        1  Bone_Marrow_CD34   7.745245  7.811210   6.477916  8.841506   \n",
       "1       12  Bone_Marrow_CD34   8.087252  7.240673   8.584648  8.983571   \n",
       "2       13  Bone_Marrow_CD34   7.792056  7.549368  11.053504  8.909703   \n",
       "3       14  Bone_Marrow_CD34   7.767265  7.094460  11.816433  8.994654   \n",
       "4       15  Bone_Marrow_CD34   8.010117  7.405281   6.656049  9.050682   \n",
       "\n",
       "   1255_g_at   1294_at   1316_at   1320_at       ...         \\\n",
       "0   4.546941  7.957714  5.344999  4.673364       ...          \n",
       "1   4.548934  8.011652  5.579647  4.828184       ...          \n",
       "2   4.549328  8.237099  5.406489  4.615572       ...          \n",
       "3   4.697018  8.283412  5.582195  4.903684       ...          \n",
       "4   4.514986  8.377046  5.493713  4.860754       ...          \n",
       "\n",
       "   AFFX-r2-Hs28SrRNA-5_at  AFFX-r2-Hs28SrRNA-M_at  AFFX-r2-P1-cre-3_at  \\\n",
       "0                5.058849                6.810004            12.800060   \n",
       "1                4.436153                6.751471            12.472706   \n",
       "2                4.392061                6.086295            12.637384   \n",
       "3                4.633334                6.375991            12.903630   \n",
       "4                5.305192                6.700453            12.949352   \n",
       "\n",
       "   AFFX-r2-P1-cre-5_at  AFFX-ThrX-3_at  AFFX-ThrX-5_at  AFFX-ThrX-M_at  \\\n",
       "0            12.718612        5.391512        4.666166        3.974759   \n",
       "1            12.333593        5.379738        4.656786        4.188348   \n",
       "2            12.499038        5.316604        4.600566        3.845561   \n",
       "3            12.871454        5.179951        4.641952        3.991634   \n",
       "4            12.782515        5.341689        4.560315        3.887020   \n",
       "\n",
       "   AFFX-TrpnX-3_at  AFFX-TrpnX-5_at  AFFX-TrpnX-M_at  \n",
       "0         3.656693         4.160622         4.139249  \n",
       "1         3.792535         4.204414         4.122700  \n",
       "2         3.635715         4.174199         4.067152  \n",
       "3         3.704587         4.149938         3.910150  \n",
       "4         3.629853         4.127513         4.004316  \n",
       "\n",
       "[5 rows x 22285 columns]"
      ]
     },
     "execution_count": 5,
     "metadata": {},
     "output_type": "execute_result"
    }
   ],
   "source": [
    "df.head()"
   ]
  },
  {
   "cell_type": "code",
   "execution_count": 6,
   "metadata": {},
   "outputs": [],
   "source": [
    "data = df.iloc[:, 64:22285].values"
   ]
  },
  {
   "cell_type": "code",
   "execution_count": 7,
   "metadata": {},
   "outputs": [
    {
     "data": {
      "image/png": "[encoded data removed]",
      "text/plain": [
       "<Figure size 720x504 with 1 Axes>"
      ]
     },
     "metadata": {
      "needs_background": "light"
     },
     "output_type": "display_data"
    }
   ],
   "source": [
    "import scipy.cluster.hierarchy as shc\n",
    "\n",
    "plt.figure(figsize=(10, 7))\n",
    "plt.title(\"Customer Dendograms\")\n",
    "dend = shc.dendrogram(shc.linkage(data, method='ward'))\n"
   ]
  },
  {
   "cell_type": "code",
   "execution_count": 8,
   "metadata": {},
   "outputs": [],
   "source": [
    "from sklearn.cluster import AgglomerativeClustering\n",
    "\n",
    "cluster = AgglomerativeClustering(n_clusters=7, affinity='euclidean', linkage='ward')\n",
    "y_hc=cluster.fit_predict(data)"
   ]
  },
  {
   "cell_type": "code",
   "execution_count": 9,
   "metadata": {},
   "outputs": [
    {
     "data": {
      "text/plain": [
       "<matplotlib.collections.PathCollection at 0xb61d1d0>"
      ]
     },
     "execution_count": 9,
     "metadata": {},
     "output_type": "execute_result"
    },
    {
     "data": {
      "image/png": "[encoded data removed]",
      "text/plain": [
       "<Figure size 720x360 with 1 Axes>"
      ]
     },
     "metadata": {
      "needs_background": "light"
     },
     "output_type": "display_data"
    }
   ],
   "source": [
    "plt.figure(figsize=(10, 5))\n",
    "plt.scatter(data[:,0], data[:,1], c=cluster.labels_, cmap='rainbow')"
   ]
  },
  {
   "cell_type": "markdown",
   "metadata": {},
   "source": [
    "# Spectral Biclustering, Spectral Coclustering"
   ]
  },
  {
   "cell_type": "code",
   "execution_count": 10,
   "metadata": {},
   "outputs": [],
   "source": [
    "import numpy as np\n",
    "from matplotlib import pyplot as plt\n",
    "\n",
    "from sklearn.datasets import make_checkerboard\n",
    "from sklearn.cluster import SpectralBiclustering\n",
    "from sklearn.metrics import consensus_score\n",
    "\n",
    "import matplotlib.pyplot as plt\n",
    "import pandas as pd\n",
    "%matplotlib inline\n",
    "import numpy as np"
   ]
  },
  {
   "cell_type": "code",
   "execution_count": 11,
   "metadata": {},
   "outputs": [
    {
     "name": "stdout",
     "output_type": "stream",
     "text": [
      "(64, 22285)\n"
     ]
    },
    {
     "data": {
      "text/html": [
       "<div>\n",
       "<style scoped>\n",
       "    .dataframe tbody tr th:only-of-type {\n",
       "        vertical-align: middle;\n",
       "    }\n",
       "\n",
       "    .dataframe tbody tr th {\n",
       "        vertical-align: top;\n",
       "    }\n",
       "\n",
       "    .dataframe thead th {\n",
       "        text-align: right;\n",
       "    }\n",
       "</style>\n",
       "<table border=\"1\" class=\"dataframe\">\n",
       "  <thead>\n",
       "    <tr style=\"text-align: right;\">\n",
       "      <th></th>\n",
       "      <th>samples</th>\n",
       "      <th>type</th>\n",
       "      <th>1007_s_at</th>\n",
       "      <th>1053_at</th>\n",
       "      <th>117_at</th>\n",
       "      <th>121_at</th>\n",
       "      <th>1255_g_at</th>\n",
       "      <th>1294_at</th>\n",
       "      <th>1316_at</th>\n",
       "      <th>1320_at</th>\n",
       "      <th>...</th>\n",
       "      <th>AFFX-r2-Hs28SrRNA-5_at</th>\n",
       "      <th>AFFX-r2-Hs28SrRNA-M_at</th>\n",
       "      <th>AFFX-r2-P1-cre-3_at</th>\n",
       "      <th>AFFX-r2-P1-cre-5_at</th>\n",
       "      <th>AFFX-ThrX-3_at</th>\n",
       "      <th>AFFX-ThrX-5_at</th>\n",
       "      <th>AFFX-ThrX-M_at</th>\n",
       "      <th>AFFX-TrpnX-3_at</th>\n",
       "      <th>AFFX-TrpnX-5_at</th>\n",
       "      <th>AFFX-TrpnX-M_at</th>\n",
       "    </tr>\n",
       "  </thead>\n",
       "  <tbody>\n",
       "    <tr>\n",
       "      <th>0</th>\n",
       "      <td>1</td>\n",
       "      <td>Bone_Marrow_CD34</td>\n",
       "      <td>7.745245</td>\n",
       "      <td>7.811210</td>\n",
       "      <td>6.477916</td>\n",
       "      <td>8.841506</td>\n",
       "      <td>4.546941</td>\n",
       "      <td>7.957714</td>\n",
       "      <td>5.344999</td>\n",
       "      <td>4.673364</td>\n",
       "      <td>...</td>\n",
       "      <td>5.058849</td>\n",
       "      <td>6.810004</td>\n",
       "      <td>12.800060</td>\n",
       "      <td>12.718612</td>\n",
       "      <td>5.391512</td>\n",
       "      <td>4.666166</td>\n",
       "      <td>3.974759</td>\n",
       "      <td>3.656693</td>\n",
       "      <td>4.160622</td>\n",
       "      <td>4.139249</td>\n",
       "    </tr>\n",
       "    <tr>\n",
       "      <th>1</th>\n",
       "      <td>12</td>\n",
       "      <td>Bone_Marrow_CD34</td>\n",
       "      <td>8.087252</td>\n",
       "      <td>7.240673</td>\n",
       "      <td>8.584648</td>\n",
       "      <td>8.983571</td>\n",
       "      <td>4.548934</td>\n",
       "      <td>8.011652</td>\n",
       "      <td>5.579647</td>\n",
       "      <td>4.828184</td>\n",
       "      <td>...</td>\n",
       "      <td>4.436153</td>\n",
       "      <td>6.751471</td>\n",
       "      <td>12.472706</td>\n",
       "      <td>12.333593</td>\n",
       "      <td>5.379738</td>\n",
       "      <td>4.656786</td>\n",
       "      <td>4.188348</td>\n",
       "      <td>3.792535</td>\n",
       "      <td>4.204414</td>\n",
       "      <td>4.122700</td>\n",
       "    </tr>\n",
       "    <tr>\n",
       "      <th>2</th>\n",
       "      <td>13</td>\n",
       "      <td>Bone_Marrow_CD34</td>\n",
       "      <td>7.792056</td>\n",
       "      <td>7.549368</td>\n",
       "      <td>11.053504</td>\n",
       "      <td>8.909703</td>\n",
       "      <td>4.549328</td>\n",
       "      <td>8.237099</td>\n",
       "      <td>5.406489</td>\n",
       "      <td>4.615572</td>\n",
       "      <td>...</td>\n",
       "      <td>4.392061</td>\n",
       "      <td>6.086295</td>\n",
       "      <td>12.637384</td>\n",
       "      <td>12.499038</td>\n",
       "      <td>5.316604</td>\n",
       "      <td>4.600566</td>\n",
       "      <td>3.845561</td>\n",
       "      <td>3.635715</td>\n",
       "      <td>4.174199</td>\n",
       "      <td>4.067152</td>\n",
       "    </tr>\n",
       "    <tr>\n",
       "      <th>3</th>\n",
       "      <td>14</td>\n",
       "      <td>Bone_Marrow_CD34</td>\n",
       "      <td>7.767265</td>\n",
       "      <td>7.094460</td>\n",
       "      <td>11.816433</td>\n",
       "      <td>8.994654</td>\n",
       "      <td>4.697018</td>\n",
       "      <td>8.283412</td>\n",
       "      <td>5.582195</td>\n",
       "      <td>4.903684</td>\n",
       "      <td>...</td>\n",
       "      <td>4.633334</td>\n",
       "      <td>6.375991</td>\n",
       "      <td>12.903630</td>\n",
       "      <td>12.871454</td>\n",
       "      <td>5.179951</td>\n",
       "      <td>4.641952</td>\n",
       "      <td>3.991634</td>\n",
       "      <td>3.704587</td>\n",
       "      <td>4.149938</td>\n",
       "      <td>3.910150</td>\n",
       "    </tr>\n",
       "    <tr>\n",
       "      <th>4</th>\n",
       "      <td>15</td>\n",
       "      <td>Bone_Marrow_CD34</td>\n",
       "      <td>8.010117</td>\n",
       "      <td>7.405281</td>\n",
       "      <td>6.656049</td>\n",
       "      <td>9.050682</td>\n",
       "      <td>4.514986</td>\n",
       "      <td>8.377046</td>\n",
       "      <td>5.493713</td>\n",
       "      <td>4.860754</td>\n",
       "      <td>...</td>\n",
       "      <td>5.305192</td>\n",
       "      <td>6.700453</td>\n",
       "      <td>12.949352</td>\n",
       "      <td>12.782515</td>\n",
       "      <td>5.341689</td>\n",
       "      <td>4.560315</td>\n",
       "      <td>3.887020</td>\n",
       "      <td>3.629853</td>\n",
       "      <td>4.127513</td>\n",
       "      <td>4.004316</td>\n",
       "    </tr>\n",
       "  </tbody>\n",
       "</table>\n",
       "<p>5 rows × 22285 columns</p>\n",
       "</div>"
      ],
      "text/plain": [
       "   samples              type  1007_s_at   1053_at     117_at    121_at  \\\n",
       "0        1  Bone_Marrow_CD34   7.745245  7.811210   6.477916  8.841506   \n",
       "1       12  Bone_Marrow_CD34   8.087252  7.240673   8.584648  8.983571   \n",
       "2       13  Bone_Marrow_CD34   7.792056  7.549368  11.053504  8.909703   \n",
       "3       14  Bone_Marrow_CD34   7.767265  7.094460  11.816433  8.994654   \n",
       "4       15  Bone_Marrow_CD34   8.010117  7.405281   6.656049  9.050682   \n",
       "\n",
       "   1255_g_at   1294_at   1316_at   1320_at       ...         \\\n",
       "0   4.546941  7.957714  5.344999  4.673364       ...          \n",
       "1   4.548934  8.011652  5.579647  4.828184       ...          \n",
       "2   4.549328  8.237099  5.406489  4.615572       ...          \n",
       "3   4.697018  8.283412  5.582195  4.903684       ...          \n",
       "4   4.514986  8.377046  5.493713  4.860754       ...          \n",
       "\n",
       "   AFFX-r2-Hs28SrRNA-5_at  AFFX-r2-Hs28SrRNA-M_at  AFFX-r2-P1-cre-3_at  \\\n",
       "0                5.058849                6.810004            12.800060   \n",
       "1                4.436153                6.751471            12.472706   \n",
       "2                4.392061                6.086295            12.637384   \n",
       "3                4.633334                6.375991            12.903630   \n",
       "4                5.305192                6.700453            12.949352   \n",
       "\n",
       "   AFFX-r2-P1-cre-5_at  AFFX-ThrX-3_at  AFFX-ThrX-5_at  AFFX-ThrX-M_at  \\\n",
       "0            12.718612        5.391512        4.666166        3.974759   \n",
       "1            12.333593        5.379738        4.656786        4.188348   \n",
       "2            12.499038        5.316604        4.600566        3.845561   \n",
       "3            12.871454        5.179951        4.641952        3.991634   \n",
       "4            12.782515        5.341689        4.560315        3.887020   \n",
       "\n",
       "   AFFX-TrpnX-3_at  AFFX-TrpnX-5_at  AFFX-TrpnX-M_at  \n",
       "0         3.656693         4.160622         4.139249  \n",
       "1         3.792535         4.204414         4.122700  \n",
       "2         3.635715         4.174199         4.067152  \n",
       "3         3.704587         4.149938         3.910150  \n",
       "4         3.629853         4.127513         4.004316  \n",
       "\n",
       "[5 rows x 22285 columns]"
      ]
     },
     "execution_count": 11,
     "metadata": {},
     "output_type": "execute_result"
    }
   ],
   "source": [
    "from pandas import read_csv, DataFrame\n",
    "raw_data = pd.read_csv('Leukemia_GSE9476.csv')\n",
    "print(raw_data.shape)\n",
    "raw_data.head()"
   ]
  },
  {
   "cell_type": "code",
   "execution_count": 12,
   "metadata": {},
   "outputs": [],
   "source": [
    "from sklearn import preprocessing\n",
    "from sklearn.decomposition import PCA\n",
    "pca = PCA()"
   ]
  },
  {
   "cell_type": "code",
   "execution_count": 14,
   "metadata": {},
   "outputs": [
    {
     "data": {
      "image/png": "[encoded data removed]",
      "text/plain": [
       "<Figure size 720x360 with 1 Axes>"
      ]
     },
     "metadata": {
      "needs_background": "light"
     },
     "output_type": "display_data"
    },
    {
     "data": {
      "image/png": "[encoded data removed]",
      "text/plain": [
       "<Figure size 720x360 with 1 Axes>"
      ]
     },
     "metadata": {
      "needs_background": "light"
     },
     "output_type": "display_data"
    }
   ],
   "source": [
    "from sklearn.cluster.bicluster import SpectralBiclustering, SpectralCoclustering\n",
    "from pandas import read_csv, DataFrame\n",
    "\n",
    "\n",
    "target=\"type\"\n",
    "features = [feature for feature in raw_data.columns if feature != target]\n",
    "#########################################\n",
    "data=raw_data\n",
    "\n",
    "from sklearn.preprocessing import normalize, scale\n",
    "\n",
    "normed = normalize(data.drop(target,1))\n",
    "\n",
    "from sklearn.cluster.bicluster import SpectralBiclustering, SpectralCoclustering\n",
    "\n",
    "from numpy import argsort\n",
    "from matplotlib.pyplot import show, imshow, figure, subplot, suptitle, tight_layout, xticks, xlabel\n",
    "\n",
    "def pipeline(n, input_df):\n",
    "    \n",
    "    cocluster = SpectralCoclustering(n_clusters = n)\n",
    "    cocluster.fit(input_df.values)\n",
    "    cocluster_fit_data = input_df.values[argsort(cocluster.row_labels_)]\n",
    "    cocluster_fit_data = cocluster_fit_data[:, argsort(cocluster.column_labels_)]\n",
    "    \n",
    "    bicluster = SpectralBiclustering(n_clusters = n)\n",
    "    bicluster.fit(input_df.values)\n",
    "    bicluster_fit_data = input_df.values[argsort(bicluster.row_labels_)]\n",
    "    bicluster_fit_data = bicluster_fit_data[:, argsort(bicluster.column_labels_)]\n",
    "    \n",
    "#     figure(figsize=(16,25))\n",
    "    #suptitle(\"Mushrooms\\n\" + \"n_clusters = \" + str(n),fontsize=32, fontweight='bold')\n",
    "    \n",
    "#     left_plot = subplot(211)\n",
    "#     ax = imshow(bicluster_fit_data, aspect='auto', cmap=\"bone\")\n",
    "#     #xticks(range(0,len(input_df.columns)), list(input_df.columns[bicluster.column_labels_]),rotation='vertical')\n",
    "#     xlabel(\"Biclustering\")\n",
    "    \n",
    "#     right_plot = subplot(212)\n",
    "#     ax = imshow(cocluster_fit_data, aspect='auto', cmap=\"bone\")\n",
    "    ##############################\n",
    "    fig,ax=plt.subplots(figsize=(10,5))\n",
    "    ax.set_title(\"cocluster\")\n",
    "    pca=PCA(n_components=n).fit(cocluster_fit_data)\n",
    "    pca_2d=pca.transform(cocluster_fit_data)\n",
    "    ax.scatter(pca_2d[:,0],pca_2d[:,1], c=bicluster.row_labels_,cmap='rainbow')\n",
    "    \n",
    "    ##############################\n",
    "    fig,ax=plt.subplots(figsize=(10,5))\n",
    "    ax.set_title(\"bicluster\")\n",
    "    pca=PCA(n_components=n).fit(bicluster_fit_data)\n",
    "    pca_2d=pca.transform(bicluster_fit_data)\n",
    "    ax.scatter(pca_2d[:,0],pca_2d[:,1], c=bicluster.row_labels_,cmap='rainbow')\n",
    "    ###############################\n",
    "    #xticks(range(0,len(input_df.columns)), list(input_df.columns[cocluster.column_labels_]),rotation='vertical')\n",
    "#     xlabel(\"Coclustering\")\n",
    "    \n",
    "    tight_layout()\n",
    "    \n",
    "    show()\n",
    "    \n",
    "from sklearn.preprocessing import LabelEncoder\n",
    "\n",
    "# transformed = DataFrame(data, columns=features)\n",
    "transformed = DataFrame(normed, columns=features)\n",
    "transformed = data.copy()\n",
    "transformed[target] = LabelEncoder().fit_transform(data[target])\n",
    "transformed[target] = transformed[target].apply(lambda x: 0.1 if x == 0 else 0.9)\n",
    "\n",
    "\n",
    "pipeline(5,transformed)"
   ]
  },
  {
   "cell_type": "code",
   "execution_count": null,
   "metadata": {},
   "outputs": [],
   "source": []
  },
  {
   "cell_type": "code",
   "execution_count": null,
   "metadata": {},
   "outputs": [],
   "source": []
  }
 ],
 "metadata": {
  "kernelspec": {
   "display_name": "Python 3",
   "language": "python",
   "name": "python3"
  },
  "language_info": {
   "codemirror_mode": {
    "name": "ipython",
    "version": 3
   },
   "file_extension": ".py",
   "mimetype": "text/x-python",
   "name": "python",
   "nbconvert_exporter": "python",
   "pygments_lexer": "ipython3",
   "version": "3.7.0"
  }
 },
 "nbformat": 4,
 "nbformat_minor": 2
}
